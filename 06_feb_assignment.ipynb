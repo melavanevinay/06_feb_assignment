{
 "cells": [
  {
   "cell_type": "markdown",
   "id": "0585dcec-2d03-40e6-9008-93075fcba158",
   "metadata": {},
   "source": [
    "## Q1. Create a function which will take a list as an argument and return the product of all the numbers after creating a flat list.\n",
    "## Use the below-given list as an argument for your function.\n",
    "## list1 = [1,2,3,4, [44,55,66, True], False, (34,56,78,89,34), {1,2,3,3,2,1}, {1:34, \"key2\": [55, 67, 78, 89], 4: (45,22, 61, 34)}, [56, 'data science'], 'Machine Learning']"
   ]
  },
  {
   "cell_type": "code",
   "execution_count": 1,
   "id": "f5674a3d-3cec-4c27-b205-41f799db3dde",
   "metadata": {},
   "outputs": [],
   "source": [
    "list1 = [1,2,3,4, [44,55,66, True], False, (34,56,78,89,34), {1,2,3,3,2,1}, {1:34, \"key2\": [55, 67, 78, 89], 4: (45,22, 61, 34)}, [56, 'data science'], 'Machine Learning']"
   ]
  },
  {
   "cell_type": "code",
   "execution_count": 2,
   "id": "d46007ac-4a2b-49ab-a8f1-99cd0a17139f",
   "metadata": {},
   "outputs": [],
   "source": [
    "from functools import reduce"
   ]
  },
  {
   "cell_type": "code",
   "execution_count": 3,
   "id": "617c26bf-2f93-4124-a46d-0ea801dcf3d6",
   "metadata": {},
   "outputs": [],
   "source": [
    "def product(l):\n",
    "    a = []\n",
    "    for i in l:\n",
    "        if type(i) == list:\n",
    "            for j in i:\n",
    "                if type(j) == int :\n",
    "                    a.append(j)\n",
    "        elif type(i) == dict :\n",
    "            for j in i.keys():\n",
    "                if type(j)== int:\n",
    "                    a.append(j)\n",
    "            for j in i.values():\n",
    "                if type(j) == int:\n",
    "                    a.append (j)\n",
    "            for j in i.values():\n",
    "                if type(j) == list:\n",
    "                    for l in j:\n",
    "                        if type(l)==int:\n",
    "                            a.append(l)\n",
    "            for j in i.values():\n",
    "                if type(j) == tuple:\n",
    "                    for l in j:\n",
    "                        if type(l) == int:\n",
    "                            a.append(l)\n",
    "        elif type(i) == tuple:\n",
    "            for j in i:\n",
    "                if type(j) == int:\n",
    "                    a.append(j)\n",
    "        elif type(i) == set:\n",
    "            for j in i:\n",
    "                if type(j) == int:\n",
    "                    a.append(j)\n",
    "        else:\n",
    "            if type (i) == int:\n",
    "                a.append(i)\n",
    "    x = reduce(lambda x,y : x*y , a)\n",
    "    print(x)   "
   ]
  },
  {
   "cell_type": "code",
   "execution_count": 4,
   "id": "bc0d827c-ad5f-4f14-a8ea-a013eb8f7515",
   "metadata": {},
   "outputs": [
    {
     "name": "stdout",
     "output_type": "stream",
     "text": [
      "4134711838987085478833841242112000\n"
     ]
    }
   ],
   "source": [
    "product(list1)"
   ]
  },
  {
   "cell_type": "markdown",
   "id": "f5e4228c-dad4-4d5f-88e8-32569a74ac2c",
   "metadata": {},
   "source": [
    "## Q2. Write a python program for encrypting a message sent to you by your friend. The logic of encryption should be such that, for a the output should be z. For b, the output should be y. For c, the output should be x respectively. Also, the whitespace should be replaced with a dollar sign. Keep the punctuation marks unchanged.\n",
    "## Input Sentence: I want to become a Data Scientist.\n",
    "## Encrypt the above input sentence using the program you just created.\n",
    "## Note: Convert the given input sentence into lowercase before encrypting. The final output should be lowercase."
   ]
  },
  {
   "cell_type": "code",
   "execution_count": 5,
   "id": "f2030aa9-20c6-4e29-bbef-9e79f040a074",
   "metadata": {},
   "outputs": [],
   "source": [
    "encrypt = {\"a\":\"z\",\"b\":\"y\",\"c\":\"x\",\"d\":\"w\",\"e\":\"v\",\"f\":\"u\",\"g\":\"t\",\"h\":\"s\",\"i\":\"r\",\"j\":\"q\",\"k\":\"p\",\"l\":\"o\",\"m\":\"n\",\"n\":\"m\",\"o\":\"l\",\"p\":\"k\",\"q\":\"j\",\"r\":\"i\",\"s\":\"h\",\"t\":\"g\",\"u\":\"f\",\"v\":\"e\",\"w\":\"d\",\"x\":\"c\",\"y\":\"b\",\"z\":\"a\"}"
   ]
  },
  {
   "cell_type": "code",
   "execution_count": 6,
   "id": "e980e43a-1c97-4dc0-950b-0ad3cec64395",
   "metadata": {},
   "outputs": [
    {
     "data": {
      "text/plain": [
       "{'a': 'z',\n",
       " 'b': 'y',\n",
       " 'c': 'x',\n",
       " 'd': 'w',\n",
       " 'e': 'v',\n",
       " 'f': 'u',\n",
       " 'g': 't',\n",
       " 'h': 's',\n",
       " 'i': 'r',\n",
       " 'j': 'q',\n",
       " 'k': 'p',\n",
       " 'l': 'o',\n",
       " 'm': 'n',\n",
       " 'n': 'm',\n",
       " 'o': 'l',\n",
       " 'p': 'k',\n",
       " 'q': 'j',\n",
       " 'r': 'i',\n",
       " 's': 'h',\n",
       " 't': 'g',\n",
       " 'u': 'f',\n",
       " 'v': 'e',\n",
       " 'w': 'd',\n",
       " 'x': 'c',\n",
       " 'y': 'b',\n",
       " 'z': 'a'}"
      ]
     },
     "execution_count": 6,
     "metadata": {},
     "output_type": "execute_result"
    }
   ],
   "source": [
    "encrypt"
   ]
  },
  {
   "cell_type": "code",
   "execution_count": 16,
   "id": "22de78c5-1a47-42a4-81ff-2d8e13408dcf",
   "metadata": {},
   "outputs": [
    {
     "name": "stdin",
     "output_type": "stream",
     "text": [
      "Enter string :  I want to become a Data Scientist\n"
     ]
    },
    {
     "name": "stdout",
     "output_type": "stream",
     "text": [
      "r$dzmg$gl$yvxlnv$z$wzgz$hxrvmgrhg"
     ]
    }
   ],
   "source": [
    "data = str(input(\"Enter string : \"))\n",
    "data=data.lower()\n",
    "for i in data:\n",
    "    if i == \" \":\n",
    "        print(\"$\",end=\"\")\n",
    "    else : \n",
    "        i == \n",
    "    for j in encrypt.keys():\n",
    "        if i == j:\n",
    "            print(encrypt[j], end=\"\")\n",
    "        "
   ]
  },
  {
   "cell_type": "code",
   "execution_count": null,
   "id": "566dbb09-6caf-42b8-8400-7f7d8f915fb7",
   "metadata": {},
   "outputs": [],
   "source": []
  }
 ],
 "metadata": {
  "kernelspec": {
   "display_name": "Python 3 (ipykernel)",
   "language": "python",
   "name": "python3"
  },
  "language_info": {
   "codemirror_mode": {
    "name": "ipython",
    "version": 3
   },
   "file_extension": ".py",
   "mimetype": "text/x-python",
   "name": "python",
   "nbconvert_exporter": "python",
   "pygments_lexer": "ipython3",
   "version": "3.10.8"
  }
 },
 "nbformat": 4,
 "nbformat_minor": 5
}
